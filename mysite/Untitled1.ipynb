{
 "cells": [
  {
   "cell_type": "code",
   "execution_count": 1,
   "id": "725bb993",
   "metadata": {},
   "outputs": [],
   "source": [
    "import os\n",
    "os.environ[\"DJANGO_ALLOW_ASYNC_UNSAFE\"] = \"true\""
   ]
  },
  {
   "cell_type": "code",
   "execution_count": 2,
   "id": "cd64cfd6",
   "metadata": {},
   "outputs": [],
   "source": [
    "from pybo.models import Question\n",
    "from django.utils import timezone"
   ]
  },
  {
   "cell_type": "code",
   "execution_count": null,
   "id": "3fe6edaa",
   "metadata": {},
   "outputs": [],
   "source": [
    "for x in range(300):\n",
    "    Question(subject=\"test data:[%03d]\" % x, content)"
   ]
  }
 ],
 "metadata": {
  "kernelspec": {
   "display_name": "Django Shell-Plus",
   "language": "python",
   "name": "django_extensions"
  },
  "language_info": {
   "codemirror_mode": {
    "name": "ipython",
    "version": 3
   },
   "file_extension": ".py",
   "mimetype": "text/x-python",
   "name": "python",
   "nbconvert_exporter": "python",
   "pygments_lexer": "ipython3",
   "version": "3.9.12"
  }
 },
 "nbformat": 4,
 "nbformat_minor": 5
}
