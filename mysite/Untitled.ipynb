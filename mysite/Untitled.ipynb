{
 "cells": [
  {
   "cell_type": "code",
   "execution_count": 1,
   "id": "60ab3bd4",
   "metadata": {},
   "outputs": [],
   "source": [
    "import os\n",
    "os.environ[\"DJANGO_ALLOW_ASYNC_UNSAFE\"] = \"true\""
   ]
  },
  {
   "cell_type": "code",
   "execution_count": 2,
   "id": "b00f89c0",
   "metadata": {},
   "outputs": [],
   "source": [
    "import django\n",
    "django.setup()\n",
    "from pybo.models import Question, Answer\n",
    "from django.utils import timezone"
   ]
  },
  {
   "cell_type": "code",
   "execution_count": 3,
   "id": "a0431399",
   "metadata": {},
   "outputs": [
    {
     "data": {
      "text/plain": [
       "datetime.datetime(2022, 10, 27, 3, 11, 39, 425386, tzinfo=datetime.timezone.utc)"
      ]
     },
     "execution_count": 3,
     "metadata": {},
     "output_type": "execute_result"
    }
   ],
   "source": [
    "timezone.now()"
   ]
  },
  {
   "cell_type": "code",
   "execution_count": 4,
   "id": "f8d88806",
   "metadata": {},
   "outputs": [],
   "source": [
    "q = Question(subject = \"Django란 무엇인가?\", content=\"장고에 대해서 알고싶습니다\", create_date=timezone.now())"
   ]
  },
  {
   "cell_type": "code",
   "execution_count": 5,
   "id": "3bc262f7",
   "metadata": {},
   "outputs": [
    {
     "name": "stdout",
     "output_type": "stream",
     "text": [
      "Django란 무엇인가?\n"
     ]
    }
   ],
   "source": [
    "print(q)"
   ]
  },
  {
   "cell_type": "code",
   "execution_count": 6,
   "id": "ccdee455",
   "metadata": {},
   "outputs": [],
   "source": [
    "q.save()"
   ]
  },
  {
   "cell_type": "code",
   "execution_count": 7,
   "id": "79feb0eb",
   "metadata": {},
   "outputs": [
    {
     "data": {
      "text/plain": [
       "4"
      ]
     },
     "execution_count": 7,
     "metadata": {},
     "output_type": "execute_result"
    }
   ],
   "source": [
    "q.id"
   ]
  },
  {
   "cell_type": "code",
   "execution_count": 8,
   "id": "dcd504ac",
   "metadata": {},
   "outputs": [
    {
     "data": {
      "text/plain": [
       "<QuerySet [<Question: Django란 무엇인가?>, <Question: 29일 휴강>, <Question: 내일은 휴가인가요?>, <Question: Django란 무엇인가?>]>"
      ]
     },
     "execution_count": 8,
     "metadata": {},
     "output_type": "execute_result"
    }
   ],
   "source": [
    "Question.objects.all()"
   ]
  },
  {
   "cell_type": "code",
   "execution_count": 9,
   "id": "431bd4c5",
   "metadata": {},
   "outputs": [
    {
     "data": {
      "text/plain": [
       "<Question: Django란 무엇인가?>"
      ]
     },
     "execution_count": 9,
     "metadata": {},
     "output_type": "execute_result"
    }
   ],
   "source": [
    "Question.objects.filter(id=1)\n",
    "Question.objects.get(id=1)"
   ]
  },
  {
   "cell_type": "code",
   "execution_count": 10,
   "id": "472e93dd",
   "metadata": {},
   "outputs": [
    {
     "data": {
      "text/plain": [
       "<QuerySet [<Question: Django란 무엇인가?>, <Question: 29일 휴강>, <Question: Django란 무엇인가?>]>"
      ]
     },
     "execution_count": 10,
     "metadata": {},
     "output_type": "execute_result"
    }
   ],
   "source": [
    "Question.objects.filter(content__contains=\"장고\")"
   ]
  },
  {
   "cell_type": "code",
   "execution_count": 11,
   "id": "72652ff1",
   "metadata": {},
   "outputs": [],
   "source": [
    "q= Question(subject =\"내일은 휴가인가요?\", content=\"28일은 휴강이 맞나요?\", create_date=timezone.now())"
   ]
  },
  {
   "cell_type": "code",
   "execution_count": 12,
   "id": "7cacd6dd",
   "metadata": {},
   "outputs": [],
   "source": [
    "q.save()"
   ]
  },
  {
   "cell_type": "code",
   "execution_count": 13,
   "id": "7615e595",
   "metadata": {},
   "outputs": [
    {
     "name": "stdout",
     "output_type": "stream",
     "text": [
      "내일은 휴가인가요?\n"
     ]
    }
   ],
   "source": [
    "print(q)"
   ]
  },
  {
   "cell_type": "code",
   "execution_count": 14,
   "id": "d5a4608d",
   "metadata": {},
   "outputs": [],
   "source": [
    "rt=Question.objects.filter(subject__contains=\"휴가\")"
   ]
  },
  {
   "cell_type": "code",
   "execution_count": 15,
   "id": "4bd2e5c1",
   "metadata": {},
   "outputs": [],
   "source": [
    "rt[0].subect=\"휴강입니다\""
   ]
  },
  {
   "cell_type": "code",
   "execution_count": 16,
   "id": "fd23554f",
   "metadata": {},
   "outputs": [],
   "source": [
    "rt2 = Question.objects.get(id=2)"
   ]
  },
  {
   "cell_type": "code",
   "execution_count": 17,
   "id": "730c85cd",
   "metadata": {},
   "outputs": [],
   "source": [
    "rt2.subject=\"29일 휴강\""
   ]
  },
  {
   "cell_type": "code",
   "execution_count": 18,
   "id": "222ee097",
   "metadata": {},
   "outputs": [],
   "source": [
    "rt2.save()"
   ]
  },
  {
   "cell_type": "markdown",
   "id": "17e22210",
   "metadata": {},
   "source": [
    "rt2.save()/delete()"
   ]
  },
  {
   "cell_type": "code",
   "execution_count": 19,
   "id": "bced5d4e",
   "metadata": {},
   "outputs": [],
   "source": [
    "rt=Question.objects.get(id=1)\n",
    "a=Answer(question=rt, content=\"에러하고 친해지세요\", create_date=timezone.now())"
   ]
  },
  {
   "cell_type": "code",
   "execution_count": 20,
   "id": "38a19db3",
   "metadata": {},
   "outputs": [],
   "source": [
    "a.save()"
   ]
  },
  {
   "cell_type": "code",
   "execution_count": 21,
   "id": "9102447b",
   "metadata": {},
   "outputs": [
    {
     "data": {
      "text/plain": [
       "<QuerySet [<Answer: 에러하고 친해지세요>, <Answer: 에러하고 친해지세요>]>"
      ]
     },
     "execution_count": 21,
     "metadata": {},
     "output_type": "execute_result"
    }
   ],
   "source": [
    "rt.answer_set.all()"
   ]
  },
  {
   "cell_type": "code",
   "execution_count": null,
   "id": "39907cd3",
   "metadata": {},
   "outputs": [],
   "source": []
  }
 ],
 "metadata": {
  "kernelspec": {
   "display_name": "Python 3 (ipykernel)",
   "language": "python",
   "name": "python3"
  },
  "language_info": {
   "codemirror_mode": {
    "name": "ipython",
    "version": 3
   },
   "file_extension": ".py",
   "mimetype": "text/x-python",
   "name": "python",
   "nbconvert_exporter": "python",
   "pygments_lexer": "ipython3",
   "version": "3.9.12"
  }
 },
 "nbformat": 4,
 "nbformat_minor": 5
}
